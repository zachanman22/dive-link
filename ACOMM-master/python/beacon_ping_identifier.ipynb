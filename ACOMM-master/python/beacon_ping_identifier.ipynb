{
 "cells": [
  {
   "cell_type": "code",
   "execution_count": 95,
   "metadata": {},
   "outputs": [],
   "source": [
    "import scipy\n",
    "import os\n",
    "import numpy as np\n",
    "import time\n",
    "from IPython.display import clear_output"
   ]
  },
  {
   "cell_type": "code",
   "execution_count": 96,
   "metadata": {},
   "outputs": [],
   "source": [
    "def loadFilePaths(filepath):\n",
    "    files = []\n",
    "    for path, subdirs, f in os.walk(filepath):\n",
    "        for file in f:\n",
    "            files.append(os.path.join(path, file))\n",
    "    return files"
   ]
  },
  {
   "cell_type": "code",
   "execution_count": 97,
   "metadata": {},
   "outputs": [
    {
     "name": "stdout",
     "output_type": "stream",
     "text": [
      "['C:\\\\Users\\\\Scott\\\\Documents\\\\Arduino\\\\libraries\\\\ACOMM\\\\transducer\\\\tests\\\\kalman_tests\\\\2022-08-18\\\\beaconpos1\\\\10_847800_b_25khz_36khz_b__pingHz_1_L_200.txt', 'C:\\\\Users\\\\Scott\\\\Documents\\\\Arduino\\\\libraries\\\\ACOMM\\\\transducer\\\\tests\\\\kalman_tests\\\\2022-08-18\\\\beaconpos1\\\\11_847889_b_25khz_36khz_b__pingHz_1_L_200.txt', 'C:\\\\Users\\\\Scott\\\\Documents\\\\Arduino\\\\libraries\\\\ACOMM\\\\transducer\\\\tests\\\\kalman_tests\\\\2022-08-18\\\\beaconpos1\\\\12_847957_b_25khz_36khz_b__pingHz_1_L_200.txt', 'C:\\\\Users\\\\Scott\\\\Documents\\\\Arduino\\\\libraries\\\\ACOMM\\\\transducer\\\\tests\\\\kalman_tests\\\\2022-08-18\\\\beaconpos1\\\\13_848182_b_25khz_36khz_b__pingHz_4_straight_200.txt', 'C:\\\\Users\\\\Scott\\\\Documents\\\\Arduino\\\\libraries\\\\ACOMM\\\\transducer\\\\tests\\\\kalman_tests\\\\2022-08-18\\\\beaconpos1\\\\14_848224_b_25khz_36khz_b__pingHz_4_straight_200.txt', 'C:\\\\Users\\\\Scott\\\\Documents\\\\Arduino\\\\libraries\\\\ACOMM\\\\transducer\\\\tests\\\\kalman_tests\\\\2022-08-18\\\\beaconpos1\\\\15_848264_b_25khz_36khz_b__pingHz_4_straight_200.txt', 'C:\\\\Users\\\\Scott\\\\Documents\\\\Arduino\\\\libraries\\\\ACOMM\\\\transducer\\\\tests\\\\kalman_tests\\\\2022-08-18\\\\beaconpos1\\\\16_848443_b_25khz_36khz_b__pingHz_4_L_200.txt', 'C:\\\\Users\\\\Scott\\\\Documents\\\\Arduino\\\\libraries\\\\ACOMM\\\\transducer\\\\tests\\\\kalman_tests\\\\2022-08-18\\\\beaconpos1\\\\17_848511_b_25khz_36khz_b__pingHz_4_L_200.txt', 'C:\\\\Users\\\\Scott\\\\Documents\\\\Arduino\\\\libraries\\\\ACOMM\\\\transducer\\\\tests\\\\kalman_tests\\\\2022-08-18\\\\beaconpos1\\\\18_848570_b_25khz_36khz_b__pingHz_4_L_200.txt', 'C:\\\\Users\\\\Scott\\\\Documents\\\\Arduino\\\\libraries\\\\ACOMM\\\\transducer\\\\tests\\\\kalman_tests\\\\2022-08-18\\\\beaconpos1\\\\1_846614_b_25khz_36khz_b__pingHz_2_staight_200.txt', 'C:\\\\Users\\\\Scott\\\\Documents\\\\Arduino\\\\libraries\\\\ACOMM\\\\transducer\\\\tests\\\\kalman_tests\\\\2022-08-18\\\\beaconpos1\\\\2_846679_b_25khz_36khz_b__pingHz_2_staight_200.txt', 'C:\\\\Users\\\\Scott\\\\Documents\\\\Arduino\\\\libraries\\\\ACOMM\\\\transducer\\\\tests\\\\kalman_tests\\\\2022-08-18\\\\beaconpos1\\\\3_846804_b_25khz_36khz_b__pingHz_2_staight_200.txt', 'C:\\\\Users\\\\Scott\\\\Documents\\\\Arduino\\\\libraries\\\\ACOMM\\\\transducer\\\\tests\\\\kalman_tests\\\\2022-08-18\\\\beaconpos1\\\\4_846994_b_25khz_36khz_b__pingHz_2_L_200.txt', 'C:\\\\Users\\\\Scott\\\\Documents\\\\Arduino\\\\libraries\\\\ACOMM\\\\transducer\\\\tests\\\\kalman_tests\\\\2022-08-18\\\\beaconpos1\\\\5_847112_b_25khz_36khz_b__pingHz_2_L_200.txt', 'C:\\\\Users\\\\Scott\\\\Documents\\\\Arduino\\\\libraries\\\\ACOMM\\\\transducer\\\\tests\\\\kalman_tests\\\\2022-08-18\\\\beaconpos1\\\\6_847210_b_25khz_36khz_b__pingHz_2_L_200.txt', 'C:\\\\Users\\\\Scott\\\\Documents\\\\Arduino\\\\libraries\\\\ACOMM\\\\transducer\\\\tests\\\\kalman_tests\\\\2022-08-18\\\\beaconpos1\\\\7_847510_b_25khz_36khz_b__pingHz_1_straight_200.txt', 'C:\\\\Users\\\\Scott\\\\Documents\\\\Arduino\\\\libraries\\\\ACOMM\\\\transducer\\\\tests\\\\kalman_tests\\\\2022-08-18\\\\beaconpos1\\\\8_847556_b_25khz_36khz_b__pingHz_1_straight_200.txt', 'C:\\\\Users\\\\Scott\\\\Documents\\\\Arduino\\\\libraries\\\\ACOMM\\\\transducer\\\\tests\\\\kalman_tests\\\\2022-08-18\\\\beaconpos1\\\\9_847647_b_25khz_36khz_b__pingHz_1_straight_200.txt', 'C:\\\\Users\\\\Scott\\\\Documents\\\\Arduino\\\\libraries\\\\ACOMM\\\\transducer\\\\tests\\\\kalman_tests\\\\2022-08-18\\\\beaconpos2\\\\19_849006_b_25khz_36khz_b__pingHz_4_straight_200.txt', 'C:\\\\Users\\\\Scott\\\\Documents\\\\Arduino\\\\libraries\\\\ACOMM\\\\transducer\\\\tests\\\\kalman_tests\\\\2022-08-18\\\\beaconpos2\\\\20_849053_b_25khz_36khz_b__pingHz_4_straight_200.txt', 'C:\\\\Users\\\\Scott\\\\Documents\\\\Arduino\\\\libraries\\\\ACOMM\\\\transducer\\\\tests\\\\kalman_tests\\\\2022-08-18\\\\beaconpos2\\\\21_849092_b_25khz_36khz_b__pingHz_4_straight_200.txt', 'C:\\\\Users\\\\Scott\\\\Documents\\\\Arduino\\\\libraries\\\\ACOMM\\\\transducer\\\\tests\\\\kalman_tests\\\\2022-08-18\\\\beaconpos2\\\\22_849294_b_25khz_36khz_b__pingHz_4_L_200.txt', 'C:\\\\Users\\\\Scott\\\\Documents\\\\Arduino\\\\libraries\\\\ACOMM\\\\transducer\\\\tests\\\\kalman_tests\\\\2022-08-18\\\\beaconpos2\\\\23_849355_b_25khz_36khz_b__pingHz_4_L_200.txt', 'C:\\\\Users\\\\Scott\\\\Documents\\\\Arduino\\\\libraries\\\\ACOMM\\\\transducer\\\\tests\\\\kalman_tests\\\\2022-08-18\\\\beaconpos2\\\\25_849413_b_25khz_36khz_b__pingHz_4_L_200.txt', 'C:\\\\Users\\\\Scott\\\\Documents\\\\Arduino\\\\libraries\\\\ACOMM\\\\transducer\\\\tests\\\\kalman_tests\\\\2022-08-18\\\\beaconpos2\\\\26_849594_b_25khz_36khz_b__pingHz_2_straight_200.txt', 'C:\\\\Users\\\\Scott\\\\Documents\\\\Arduino\\\\libraries\\\\ACOMM\\\\transducer\\\\tests\\\\kalman_tests\\\\2022-08-18\\\\beaconpos2\\\\27_849753_b_25khz_36khz_b__pingHz_2_straight_200.txt', 'C:\\\\Users\\\\Scott\\\\Documents\\\\Arduino\\\\libraries\\\\ACOMM\\\\transducer\\\\tests\\\\kalman_tests\\\\2022-08-18\\\\beaconpos2\\\\28_849791_b_25khz_36khz_b__pingHz_2_straight_200.txt', 'C:\\\\Users\\\\Scott\\\\Documents\\\\Arduino\\\\libraries\\\\ACOMM\\\\transducer\\\\tests\\\\kalman_tests\\\\2022-08-18\\\\beaconpos2\\\\29_850022_b_25khz_36khz_b__pingHz_2_L_200.txt', 'C:\\\\Users\\\\Scott\\\\Documents\\\\Arduino\\\\libraries\\\\ACOMM\\\\transducer\\\\tests\\\\kalman_tests\\\\2022-08-18\\\\beaconpos2\\\\30_850083_b_25khz_36khz_b__pingHz_2_L_200.txt', 'C:\\\\Users\\\\Scott\\\\Documents\\\\Arduino\\\\libraries\\\\ACOMM\\\\transducer\\\\tests\\\\kalman_tests\\\\2022-08-18\\\\beaconpos2\\\\31_850190_b_25khz_36khz_b__pingHz_2_L_200.txt']\n"
     ]
    }
   ],
   "source": [
    "DATA_DIR = r\"C:\\Users\\Scott\\Documents\\Arduino\\libraries\\ACOMM\\transducer\\tests\\kalman_tests\\2022-08-18\"\n",
    "files = loadFilePaths(DATA_DIR)\n",
    "files = [f for f in files if \"note\" not in f]\n",
    "files = [f for f in files if \"pingData\" not in f.split('\\\\')[-1]]\n",
    "adc_values = 4096\n",
    "print(files)"
   ]
  },
  {
   "cell_type": "code",
   "execution_count": 98,
   "metadata": {},
   "outputs": [],
   "source": [
    "def loadData(filepath):\n",
    "    with open(filepath) as f:\n",
    "        lines = f.readlines()\n",
    "        return lines"
   ]
  },
  {
   "cell_type": "code",
   "execution_count": 99,
   "metadata": {},
   "outputs": [],
   "source": [
    "filedata = [[(float(k.split(' ')[1])-adc_values/2)/(adc_values/2) for k in loadData(f)[100:-100]] for f in files]"
   ]
  },
  {
   "cell_type": "code",
   "execution_count": 100,
   "metadata": {},
   "outputs": [],
   "source": [
    "filedata = [np.array(f) for f in filedata]"
   ]
  },
  {
   "cell_type": "code",
   "execution_count": 101,
   "metadata": {},
   "outputs": [],
   "source": [
    "def get_indices_of_frequencies_between(lowerFreq, upperFreq, arr):\n",
    "    indexOfLowerFreq = np.nonzero(arr < upperFreq)\n",
    "    indexOfUpperFreq = np.nonzero(arr > lowerFreq)\n",
    "    return np.intersect1d(indexOfLowerFreq,indexOfUpperFreq)"
   ]
  },
  {
   "cell_type": "code",
   "execution_count": 102,
   "metadata": {},
   "outputs": [],
   "source": [
    "\n",
    "from scipy.fft import fft, fftfreq\n",
    "import matplotlib.pyplot as plt\n",
    "N = 200\n",
    "# sample spacing\n",
    "T = 0.000005\n",
    "x = np.linspace(0.0, N*T, N, endpoint=False)\n",
    "trueMax1 = 0\n",
    "trueMax2 = 0\n",
    "xf = fftfreq(N, T)[:N//2]\n",
    "\n",
    "beaconFreq = [25000, 36000]\n",
    "beaconMaxValuePerStep = [0]*len(beaconFreq)\n",
    "beaconData = []\n",
    "for beacon in beaconFreq:\n",
    "    beaconData.append({'indices': get_indices_of_frequencies_between(beacon-1000,beacon+1000,xf),\n",
    "                    'triggerThreshold': 10,\n",
    "                    'resetThreshold': 0.2,\n",
    "                    'active': False})\n",
    "allPingData = []\n",
    "for data in filedata:\n",
    "    pingData = []\n",
    "    for i in range(len(data)-N):\n",
    "        yf = fft(data[i:i+N])\n",
    "        \n",
    "        # get the max value of the frequency bins representing the beacons\n",
    "        for index in range(len(beaconMaxValuePerStep)):\n",
    "            beaconMaxVal = max([np.abs(yf[j]) for j in beaconData[index]['indices']])\n",
    "            if beaconData[index]['active']:\n",
    "                if beaconMaxVal < beaconData[index]['resetThreshold']:\n",
    "                    beaconData[index]['active'] = False\n",
    "            else:\n",
    "                if beaconMaxVal >= beaconData[index]['triggerThreshold']:\n",
    "                    beaconData[index]['active'] = True\n",
    "                    pingData.append(str(index) + '_' + str(beaconFreq[index]) + '_' + str(i*0.000005))\n",
    "        # clear_output(wait=True)\n",
    "        # plt.plot(xf, 2.0/N * np.abs(yf[0:N//2]))\n",
    "        # plt.grid()\n",
    "        # plt.show()\n",
    "    allPingData.append(pingData)"
   ]
  },
  {
   "cell_type": "code",
   "execution_count": 103,
   "metadata": {},
   "outputs": [],
   "source": [
    "for dataIndex in range(len(allPingData)):\n",
    "    allPingData[dataIndex] = allPingData[dataIndex][4:]"
   ]
  },
  {
   "cell_type": "code",
   "execution_count": 104,
   "metadata": {},
   "outputs": [],
   "source": [
    "def saveData(data, filepath):\n",
    "    with open(filepath, 'w') as f:\n",
    "        f.write('\\n'.join(data))"
   ]
  },
  {
   "cell_type": "code",
   "execution_count": 105,
   "metadata": {},
   "outputs": [],
   "source": [
    "def extractFileName(filepath):\n",
    "    return (filepath.split(\"\\\\\")[-1]).split('.')[0]\n",
    "\n",
    "def extractFilePath(filepath):\n",
    "    return \"\\\\\".join(filepath.split('\\\\')[:-1]) + \"\\\\\"\n",
    "\n",
    "def appendNameAndFileType(filepath):\n",
    "    return str('pingData_') + filepath + '.txt'\n",
    "\n",
    "saveFilePaths = [extractFilePath(filepath) + appendNameAndFileType(extractFileName(filepath)) for filepath in files]"
   ]
  },
  {
   "cell_type": "code",
   "execution_count": 106,
   "metadata": {},
   "outputs": [],
   "source": [
    "for index in range(len(saveFilePaths)):\n",
    "    saveData(allPingData[index], saveFilePaths[index])"
   ]
  },
  {
   "cell_type": "code",
   "execution_count": null,
   "metadata": {},
   "outputs": [],
   "source": []
  }
 ],
 "metadata": {
  "kernelspec": {
   "display_name": "sps",
   "language": "python",
   "name": "sps"
  },
  "language_info": {
   "codemirror_mode": {
    "name": "ipython",
    "version": 3
   },
   "file_extension": ".py",
   "mimetype": "text/x-python",
   "name": "python",
   "nbconvert_exporter": "python",
   "pygments_lexer": "ipython3",
   "version": "3.10.5 (tags/v3.10.5:f377153, Jun  6 2022, 16:14:13) [MSC v.1929 64 bit (AMD64)]"
  },
  "orig_nbformat": 4
 },
 "nbformat": 4,
 "nbformat_minor": 2
}
